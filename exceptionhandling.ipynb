{
 "cells": [
  {
   "cell_type": "code",
   "execution_count": 1,
   "id": "8813e70c-d377-4662-b6c3-7b001d99d07f",
   "metadata": {},
   "outputs": [
    {
     "data": {
      "text/plain": [
       "'\\nBoth exceptions and errors are the subclasses of a throwable class. \\nThe error implies a problem that mostly arises due to the shortage of system resources. \\nOn the other hand, the exceptions occur during runtime and compile time.\\n'"
      ]
     },
     "execution_count": 1,
     "metadata": {},
     "output_type": "execute_result"
    }
   ],
   "source": [
    "#1\n",
    "'''\n",
    "An exception can be a string, a class or an object. \n",
    "Most of the exceptions that the Python core raises are classes, \n",
    "with an argument that is an instance of the class.\n",
    "'''\n",
    "'''\n",
    "Both exceptions and errors are the subclasses of a throwable class. \n",
    "The error implies a problem that mostly arises due to the shortage of system resources. \n",
    "On the other hand, the exceptions occur during runtime and compile time.\n",
    "'''"
   ]
  },
  {
   "cell_type": "code",
   "execution_count": 21,
   "id": "2695ed3e-889a-492e-aefc-547ce2c9e2bf",
   "metadata": {},
   "outputs": [],
   "source": [
    "import logging\n",
    "\n",
    "logging.basicConfig(filename=\"except.log\", level=logging.INFO)"
   ]
  },
  {
   "cell_type": "code",
   "execution_count": 16,
   "id": "7bdd8cb8-35ab-4229-810d-34bcdf367278",
   "metadata": {},
   "outputs": [],
   "source": [
    "#2\n",
    "'''\n",
    "If the exception is not handled by an except clause, \n",
    "the exception is re-raised after the finally clause has been executed.\n",
    "'''\n",
    "try:\n",
    "    a=5\n",
    "    b='0'\n",
    "    print (a+b)\n",
    "except TypeError:\n",
    "    logging.error('Unsupported operation')\n",
    "finally:\n",
    "    logging.info(\"Out of try except blocks\")"
   ]
  },
  {
   "cell_type": "code",
   "execution_count": 17,
   "id": "82ab0683-437f-4976-946d-85462713ba79",
   "metadata": {},
   "outputs": [],
   "source": [
    "#3\n",
    "'''try and except block'''\n",
    "try:\n",
    "    linux_interaction()\n",
    "except:\n",
    "    logging.error('Linux function was not executed')"
   ]
  },
  {
   "cell_type": "code",
   "execution_count": 18,
   "id": "756c76ba-8f73-4a34-a876-350eb9cbedee",
   "metadata": {},
   "outputs": [],
   "source": [
    "#4.1\n",
    "try:\n",
    "    logging.info(\"Hello\")\n",
    "except:\n",
    "    logging.error(\"Something went wrong\")\n",
    "else:\n",
    "    logging.warning(\"Nothing went wrong\")"
   ]
  },
  {
   "cell_type": "code",
   "execution_count": 20,
   "id": "a2bd8096-0bed-4194-b9c4-658f5474d9c2",
   "metadata": {},
   "outputs": [],
   "source": [
    "#4.2\n",
    "try:\n",
    "    logging.info(x)\n",
    "except:\n",
    "    logging.error(\"Something went wrong\")\n",
    "finally:\n",
    "    logging.warning(\"The 'try except' is finished\")"
   ]
  },
  {
   "cell_type": "code",
   "execution_count": 22,
   "id": "827f54c6-f9a7-4c1a-ae01-6c2530b9ee20",
   "metadata": {},
   "outputs": [
    {
     "ename": "Exception",
     "evalue": "Sorry, no numbers below zero",
     "output_type": "error",
     "traceback": [
      "\u001b[0;31m---------------------------------------------------------------------------\u001b[0m",
      "\u001b[0;31mException\u001b[0m                                 Traceback (most recent call last)",
      "Cell \u001b[0;32mIn[22], line 4\u001b[0m\n\u001b[1;32m      2\u001b[0m x \u001b[38;5;241m=\u001b[39m \u001b[38;5;241m-\u001b[39m\u001b[38;5;241m1\u001b[39m\n\u001b[1;32m      3\u001b[0m \u001b[38;5;28;01mif\u001b[39;00m x \u001b[38;5;241m<\u001b[39m \u001b[38;5;241m0\u001b[39m:\n\u001b[0;32m----> 4\u001b[0m     \u001b[38;5;28;01mraise\u001b[39;00m \u001b[38;5;167;01mException\u001b[39;00m(\u001b[38;5;124m\"\u001b[39m\u001b[38;5;124mSorry, no numbers below zero\u001b[39m\u001b[38;5;124m\"\u001b[39m)\n",
      "\u001b[0;31mException\u001b[0m: Sorry, no numbers below zero"
     ]
    }
   ],
   "source": [
    "#4.3\n",
    "x = -1\n",
    "if x < 0:\n",
    "    raise Exception(\"Sorry, no numbers below zero\")"
   ]
  },
  {
   "cell_type": "code",
   "execution_count": 24,
   "id": "12d69a7c-a674-4204-93bf-2e051be2e086",
   "metadata": {},
   "outputs": [
    {
     "name": "stdin",
     "output_type": "stream",
     "text": [
      "Enter a number between positive integer:  -78\n"
     ]
    }
   ],
   "source": [
    "#5\n",
    "'''\n",
    "In Python, we can define custom exceptions by creating a new class that is derived from the built-in Exception class. \n",
    "'''\n",
    "'''\n",
    "it is better to define a custom Exception class that provides a better understanding of the errors that users can understand and relate.\n",
    "'''\n",
    "class NegativeError(Exception):\n",
    "    def __init__(self, data):\n",
    "        self.data = data\n",
    "\n",
    "try:\n",
    "    x = int(input(\"Enter a number between positive integer: \"))\n",
    "    if x < 0:\n",
    "        raise NegativeError(x)\n",
    "except NegativeError as e:\n",
    "    logging.error(\"You provided {}. Please provide positive integer values only\".format(e))"
   ]
  },
  {
   "cell_type": "code",
   "execution_count": null,
   "id": "fdc6520d-7dd6-4bd2-a31f-00b3951dbf44",
   "metadata": {},
   "outputs": [],
   "source": []
  }
 ],
 "metadata": {
  "kernelspec": {
   "display_name": "Python 3 (ipykernel)",
   "language": "python",
   "name": "python3"
  },
  "language_info": {
   "codemirror_mode": {
    "name": "ipython",
    "version": 3
   },
   "file_extension": ".py",
   "mimetype": "text/x-python",
   "name": "python",
   "nbconvert_exporter": "python",
   "pygments_lexer": "ipython3",
   "version": "3.10.8"
  }
 },
 "nbformat": 4,
 "nbformat_minor": 5
}
